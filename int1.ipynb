{
 "cells": [
  {
   "cell_type": "code",
   "execution_count": 3,
   "id": "291706c3-c2d3-4da5-aa56-83aac1614a08",
   "metadata": {},
   "outputs": [],
   "source": [
    "# Step 1: Import necessary libraries\n",
    "import numpy as np\n",
    "import pandas as pd\n",
    "from sklearn.model_selection import train_test_split\n",
    "from sklearn.linear_model import LinearRegression\n",
    "from sklearn.metrics import mean_squared_error, r2_score\n"
   ]
  },
  {
   "cell_type": "code",
   "execution_count": 5,
   "id": "244ee0a2-2531-4a75-a3e0-fb34b54b1e13",
   "metadata": {},
   "outputs": [
    {
     "name": "stdout",
     "output_type": "stream",
     "text": [
      "   square_footage  bedrooms  bathrooms   price\n",
      "0            1500         3          2  300000\n",
      "1            2000         4          3  400000\n",
      "2            2500         4          3  500000\n",
      "3            1800         3          2  350000\n",
      "4            2200         4          3  450000\n"
     ]
    }
   ],
   "source": [
    "# Step 2: Create a synthetic dataset for example\n",
    "# Here, 'square_footage', 'bedrooms', and 'bathrooms' are the features, and 'price' is the target variable\n",
    "data = {\n",
    "    'square_footage': [1500, 2000, 2500, 1800, 2200, 3000, 3500, 4000, 1300, 1700],\n",
    "    'bedrooms': [3, 4, 4, 3, 4, 5, 5, 6, 2, 3],\n",
    "    'bathrooms': [2, 3, 3, 2, 3, 4, 4, 5, 1, 2],\n",
    "    'price': [300000, 400000, 500000, 350000, 450000, 600000, 700000, 800000, 250000, 320000]\n",
    "}\n",
    "\n",
    "# Convert the dictionary to a pandas DataFrame\n",
    "df = pd.DataFrame(data)\n",
    "\n",
    "# Print the first few rows of the dataset to inspect it\n",
    "print(df.head())\n"
   ]
  },
  {
   "cell_type": "code",
   "execution_count": 7,
   "id": "8832e175-74ce-4655-bacb-4d981763dec1",
   "metadata": {},
   "outputs": [
    {
     "name": "stdout",
     "output_type": "stream",
     "text": [
      "Features (X):\n",
      "    square_footage  bedrooms  bathrooms\n",
      "0            1500         3          2\n",
      "1            2000         4          3\n",
      "2            2500         4          3\n",
      "3            1800         3          2\n",
      "4            2200         4          3\n",
      "Target (y):\n",
      " 0    300000\n",
      "1    400000\n",
      "2    500000\n",
      "3    350000\n",
      "4    450000\n",
      "Name: price, dtype: int64\n"
     ]
    }
   ],
   "source": [
    "# Step 3: Define the features (independent variables) and target (dependent variable)\n",
    "# Features are 'square_footage', 'bedrooms', and 'bathrooms'\n",
    "X = df[['square_footage', 'bedrooms', 'bathrooms']]\n",
    "\n",
    "# The target variable is 'price'\n",
    "y = df['price']\n",
    "\n",
    "# Print the features and target to ensure correctness\n",
    "print(\"Features (X):\\n\", X.head())\n",
    "print(\"Target (y):\\n\", y.head())\n"
   ]
  },
  {
   "cell_type": "code",
   "execution_count": 9,
   "id": "b4b8a156-8b1a-47c4-9786-baf68deb0ed5",
   "metadata": {},
   "outputs": [
    {
     "name": "stdout",
     "output_type": "stream",
     "text": [
      "Training set shape (X_train, y_train): (8, 3) (8,)\n",
      "Testing set shape (X_test, y_test): (2, 3) (2,)\n"
     ]
    }
   ],
   "source": [
    "# Step 4: Split the data into training and testing sets\n",
    "# 80% for training, 20% for testing\n",
    "X_train, X_test, y_train, y_test = train_test_split(X, y, test_size=0.2, random_state=42)\n",
    "\n",
    "# Print the shapes of the training and testing sets\n",
    "print(\"Training set shape (X_train, y_train):\", X_train.shape, y_train.shape)\n",
    "print(\"Testing set shape (X_test, y_test):\", X_test.shape, y_test.shape)\n"
   ]
  },
  {
   "cell_type": "code",
   "execution_count": 11,
   "id": "1672eb05-7ff6-4f88-9df1-c6a19d79b731",
   "metadata": {},
   "outputs": [
    {
     "name": "stdout",
     "output_type": "stream",
     "text": [
      "Coefficients (slopes): [  178.38164251 10326.08695652 10326.08695652]\n",
      "Intercept (y-intercept): -22777.77777777787\n"
     ]
    }
   ],
   "source": [
    "# Step 5: Initialize the linear regression model\n",
    "model = LinearRegression()\n",
    "\n",
    "# Train the model using the training data\n",
    "model.fit(X_train, y_train)\n",
    "\n",
    "# Print the model's learned coefficients (slope values) and intercept (y-intercept)\n",
    "print(\"Coefficients (slopes):\", model.coef_)\n",
    "print(\"Intercept (y-intercept):\", model.intercept_)\n"
   ]
  },
  {
   "cell_type": "code",
   "execution_count": 13,
   "id": "ac71b206-0e44-48e1-8029-3443dafa49f5",
   "metadata": {},
   "outputs": [
    {
     "name": "stdout",
     "output_type": "stream",
     "text": [
      "Predicted prices: [240096.61835749 406268.11594203]\n",
      "Actual prices: [250000 400000]\n"
     ]
    }
   ],
   "source": [
    "# Step 6: Make predictions on the test data\n",
    "y_pred = model.predict(X_test)\n",
    "\n",
    "# Print the predicted values and the actual values\n",
    "print(\"Predicted prices:\", y_pred)\n",
    "print(\"Actual prices:\", y_test.values)\n"
   ]
  },
  {
   "cell_type": "code",
   "execution_count": 15,
   "id": "0e731ea8-c554-460e-9b9f-6cd299fb2044",
   "metadata": {},
   "outputs": [
    {
     "name": "stdout",
     "output_type": "stream",
     "text": [
      "Mean Squared Error (MSE): 68683122.70998244\n",
      "R-squared (R²): 0.9877896670737809\n"
     ]
    }
   ],
   "source": [
    "# Step 7: Evaluate the model using Mean Squared Error (MSE) and R-squared (R²)\n",
    "mse = mean_squared_error(y_test, y_pred)\n",
    "r2 = r2_score(y_test, y_pred)\n",
    "\n",
    "# Print the evaluation metrics\n",
    "print(\"Mean Squared Error (MSE):\", mse)\n",
    "print(\"R-squared (R²):\", r2)\n"
   ]
  },
  {
   "cell_type": "code",
   "execution_count": 23,
   "id": "e6be061d-4b04-4c12-84d6-6b100503d9a8",
   "metadata": {},
   "outputs": [
    {
     "name": "stdout",
     "output_type": "stream",
     "text": [
      "Predicted price for the new house: 474806.7632850241\n"
     ]
    }
   ],
   "source": [
    "import numpy as np\n",
    "import pandas as pd\n",
    "\n",
    "# Ensure the column names match the ones used during training\n",
    "new_house = pd.DataFrame([[2500, 3, 2]], columns=['square_footage', 'bedrooms', 'bathrooms'])\n",
    "\n",
    "# Make the prediction\n",
    "predicted_price = model.predict(new_house)\n",
    "\n",
    "# Print the predicted price\n",
    "print(\"Predicted price for the new house:\", predicted_price[0])\n"
   ]
  },
  {
   "cell_type": "code",
   "execution_count": null,
   "id": "d3ec2d54-b3df-4b4e-be9b-57c43dd64d01",
   "metadata": {},
   "outputs": [],
   "source": []
  }
 ],
 "metadata": {
  "kernelspec": {
   "display_name": "Python 3 (ipykernel)",
   "language": "python",
   "name": "python3"
  },
  "language_info": {
   "codemirror_mode": {
    "name": "ipython",
    "version": 3
   },
   "file_extension": ".py",
   "mimetype": "text/x-python",
   "name": "python",
   "nbconvert_exporter": "python",
   "pygments_lexer": "ipython3",
   "version": "3.12.3"
  }
 },
 "nbformat": 4,
 "nbformat_minor": 5
}
